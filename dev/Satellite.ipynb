{
  "nbformat": 4,
  "nbformat_minor": 0,
  "metadata": {
    "colab": {
      "provenance": []
    },
    "kernelspec": {
      "name": "python3",
      "display_name": "Python 3"
    },
    "language_info": {
      "name": "python"
    }
  },
  "cells": [
    {
      "cell_type": "code",
      "execution_count": 1,
      "metadata": {
        "colab": {
          "base_uri": "https://localhost:8080/"
        },
        "id": "JiOq_osBGwN4",
        "outputId": "d4096c2e-1ec6-4ff7-cd76-9f0c2510aa66"
      },
      "outputs": [
        {
          "output_type": "stream",
          "name": "stdout",
          "text": [
            "Looking in indexes: https://pypi.org/simple, https://us-python.pkg.dev/colab-wheels/public/simple/\n",
            "Requirement already satisfied: opencv-python in /usr/local/lib/python3.8/dist-packages (4.6.0.66)\n",
            "Requirement already satisfied: numpy>=1.14.5 in /usr/local/lib/python3.8/dist-packages (from opencv-python) (1.21.6)\n"
          ]
        }
      ],
      "source": [
        "!pip install opencv-python"
      ]
    },
    {
      "cell_type": "code",
      "source": [
        "from google.colab.patches import cv2_imshow"
      ],
      "metadata": {
        "id": "2NtGCOXpG2UR"
      },
      "execution_count": 2,
      "outputs": []
    },
    {
      "cell_type": "markdown",
      "source": [
        "# Satellite with orange circle "
      ],
      "metadata": {
        "id": "LFgedU_LG9zB"
      }
    },
    {
      "cell_type": "code",
      "source": [
        "import cv2\n",
        "import numpy as np\n",
        "\n",
        "img = cv2.imread('original copy.jpg') # pic with the orange circle around the satellite \n",
        "\n",
        "# creating mask using thresholding over `orange` channel\n",
        "# 200 = thershoding value \n",
        "ret, mask = cv2.threshold(img[:, :,2], 200, 255, cv2.THRESH_BINARY)\n",
        "\n",
        "mask3 = np.zeros_like(img)\n",
        "mask3[:, :, 0] = mask\n",
        "mask3[:, :, 1] = mask\n",
        "mask3[:, :, 2] = mask\n",
        "\n",
        "# extracting `orange` region using `biteise_and`\n",
        "orange = cv2.bitwise_and(img, mask3)\n",
        "\n",
        "gray = cv2.cvtColor(img, cv2.COLOR_BGR2GRAY)\n",
        "img  = cv2.cvtColor(gray, cv2.COLOR_GRAY2BGR)\n",
        "\n",
        "# extracting non-orange region\n",
        "gray = cv2.bitwise_and(img, 255 - mask3)\n",
        "\n",
        "# orange masked output\n",
        "out = gray + orange\n",
        "\n",
        "cv2.imwrite('orange.png', orange)\n",
        "cv2_imshow(orange)\n",
        "cv2.imwrite('gray.png', gray)\n",
        "cv2_imshow(gray)\n",
        "cv2.imwrite(\"output.png\", out)\n",
        "cv2_imshow(out)"
      ],
      "metadata": {
        "id": "D-OhpPkdG-vz"
      },
      "execution_count": null,
      "outputs": []
    },
    {
      "cell_type": "markdown",
      "source": [
        "# Satellites coordonates "
      ],
      "metadata": {
        "id": "Ddo__BucHfFP"
      }
    },
    {
      "cell_type": "code",
      "source": [
        "from PIL import Image\n",
        "\n",
        "# Open the photo\n",
        "img = Image.open('00003.jpg')\n",
        "# Get the width and height of the photo\n",
        "width, height = img.size\n",
        "satellite_x = 351\n",
        "satellite_y = 247\n",
        "# Get the pixel values at the coordinates of the satellite\n",
        "#satellite_pixel = img.getpixel((satellite_x, satellite_y))\n",
        "\n",
        "# Loop over all the pixels in the photo and set the pixel values\n",
        "# at all other points to be transparent\n",
        "for x in range(width):\n",
        "    for y in range(height):\n",
        "        if (x, y) != (satellite_x, satellite_y):\n",
        "            img.putpixel((x, y), (0, 0, 0, 0))  # Set transparent pixel\n",
        "\n",
        "\n",
        "# Save the edited photo\n",
        "img.save('edited_photo.jpg')\n"
      ],
      "metadata": {
        "id": "g_zQFLJlGxlu"
      },
      "execution_count": null,
      "outputs": []
    },
    {
      "cell_type": "markdown",
      "source": [
        "# Cropped Method "
      ],
      "metadata": {
        "id": "nKPcW-iiHnIV"
      }
    },
    {
      "cell_type": "code",
      "source": [
        "from PIL import Image\n",
        "\n",
        "# Open the image\n",
        "image = Image.open('00003.jpg')\n",
        "\n",
        "# Crop the image to a square around the satellite\n",
        "# The coordinates of the satellite will determine the position and size of the cropped image\n",
        "width, height = image.size\n",
        "satellite_coordinates = (0,0,351,247)  # example coordinates\n",
        "cropped_image = image.crop(satellite_coordinates)\n",
        "#193 - 185\n",
        "# Save the cropped image\n",
        "cropped_image.save('satellite_cropped.jpg')"
      ],
      "metadata": {
        "id": "PlA0wXACHpiC"
      },
      "execution_count": null,
      "outputs": []
    }
  ]
}